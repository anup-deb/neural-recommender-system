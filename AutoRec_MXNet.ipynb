{
 "cells": [
  {
   "cell_type": "code",
   "execution_count": 1,
   "metadata": {},
   "outputs": [
    {
     "name": "stderr",
     "output_type": "stream",
     "text": [
      "\n",
      "Bad key \"text.kerning_factor\" on line 4 in\n",
      "/Users/onik/anaconda3/envs/causal/lib/python3.6/site-packages/matplotlib/mpl-data/stylelib/_classic_test_patch.mplstyle.\n",
      "You probably need to get an updated matplotlibrc file from\n",
      "http://github.com/matplotlib/matplotlib/blob/master/matplotlibrc.template\n",
      "or from the matplotlib source distribution\n"
     ]
    }
   ],
   "source": [
    "import mxnet as mx\n",
    "import numpy as np\n",
    "from mxnet import autograd, gluon\n",
    "\n",
    "from mxnet.gluon import nn\n",
    "from d2l import mxnet as d2l\n",
    "\n",
    "#npx.set_np()"
   ]
  },
  {
   "cell_type": "code",
   "execution_count": 2,
   "metadata": {},
   "outputs": [],
   "source": [
    "class AutoRec(nn.Block):\n",
    "    def __init__(self, num_hidden, num_users, dropout=0.05):\n",
    "        super(AutoRec, self).__init__()\n",
    "        self.encoder = nn.Dense(num_hidden, activation='sigmoid',\n",
    "                                use_bias=True)\n",
    "        self.decoder = nn.Dense(num_users, use_bias=True)\n",
    "        self.dropout = nn.Dropout(dropout)\n",
    "\n",
    "    def forward(self, input):\n",
    "        hidden = self.dropout(self.encoder(input))\n",
    "        pred = self.decoder(hidden)\n",
    "        if autograd.is_training():  # Mask the gradient during training\n",
    "            return pred * np.sign(input)\n",
    "        else:\n",
    "            return pred"
   ]
  },
  {
   "cell_type": "code",
   "execution_count": 3,
   "metadata": {},
   "outputs": [],
   "source": [
    "def evaluator(network, inter_matrix, test_data, devices):\n",
    "    scores = []\n",
    "    for values in inter_matrix:\n",
    "        feat = gluon.utils.split_and_load(values, devices, even_split=False)\n",
    "        scores.extend([network(i).asnumpy() for i in feat])\n",
    "    recons = np.array([item for sublist in scores for item in sublist])\n",
    "    # Calculate the test RMSE\n",
    "    rmse = np.sqrt(\n",
    "        np.sum(np.square(test_data - np.sign(test_data) * recons)) /\n",
    "        np.sum(np.sign(test_data)))\n",
    "    return float(rmse)"
   ]
  },
  {
   "cell_type": "code",
   "execution_count": null,
   "metadata": {},
   "outputs": [
    {
     "name": "stdout",
     "output_type": "stream",
     "text": [
      "1\n",
      "2\n",
      "2\n",
      "2\n",
      "2\n"
     ]
    }
   ],
   "source": [
    "devices = d2l.try_all_gpus()\n",
    "# Load the MovieLens 100K dataset\n",
    "df, num_users, num_items = d2l.read_data_ml100k()\n",
    "print(\"1\")\n",
    "train_data, test_data = d2l.split_data_ml100k(df, num_users, num_items)\n",
    "print(\"2\")\n",
    "_, _, _, train_inter_mat = d2l.load_data_ml100k(train_data, num_users,\n",
    "                                                num_items)\n",
    "print(\"2\")\n",
    "_, _, _, test_inter_mat = d2l.load_data_ml100k(test_data, num_users,\n",
    "                                               num_items)\n",
    "print(\"2\")\n",
    "train_iter = gluon.data.DataLoader(train_inter_mat, shuffle=True,\n",
    "                                   last_batch=\"rollover\", batch_size=256,\n",
    "                                   num_workers=d2l.get_dataloader_workers())\n",
    "print(\"2\")\n",
    "test_iter = gluon.data.DataLoader(np.array(test_inter_mat), shuffle=False,\n",
    "                                  last_batch=\"keep\", batch_size=1024,\n",
    "                                  num_workers=d2l.get_dataloader_workers())\n",
    "print(\"2\")\n",
    "# Model initialization, training, and evaluation\n",
    "net = AutoRec(500, num_users)\n",
    "print(\"3\")\n",
    "net.initialize(ctx=devices, force_reinit=True, init=mx.init.Normal(0.01))\n",
    "print(\"3\")\n",
    "lr, num_epochs, wd, optimizer = 0.002, 25, 1e-5, 'adam'\n",
    "print(\"3\")\n",
    "loss = gluon.loss.L2Loss()\n",
    "print(\"3\")\n",
    "trainer = gluon.Trainer(net.collect_params(), optimizer, {\n",
    "    \"learning_rate\": lr,\n",
    "    'wd': wd})\n",
    "print(\"3\")\n",
    "d2l.train_recsys_rating(net, train_iter, test_iter, loss, trainer, num_epochs,\n",
    "                        devices, evaluator, inter_mat=test_inter_mat)"
   ]
  }
 ],
 "metadata": {
  "kernelspec": {
   "display_name": "Python 3",
   "language": "python",
   "name": "python3"
  },
  "language_info": {
   "codemirror_mode": {
    "name": "ipython",
    "version": 3
   },
   "file_extension": ".py",
   "mimetype": "text/x-python",
   "name": "python",
   "nbconvert_exporter": "python",
   "pygments_lexer": "ipython3",
   "version": "3.6.12"
  }
 },
 "nbformat": 4,
 "nbformat_minor": 4
}
